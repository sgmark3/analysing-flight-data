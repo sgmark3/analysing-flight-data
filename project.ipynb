{
 "cells": [
  {
   "cell_type": "markdown",
   "id": "great-australia",
   "metadata": {},
   "source": [
    "Uploading all the required packages"
   ]
  },
  {
   "cell_type": "code",
   "execution_count": 1,
   "id": "parallel-marsh",
   "metadata": {},
   "outputs": [],
   "source": [
    "import numpy as np\n",
    "import matplotlib.pyplot as plt\n",
    "import networkx as nx\n",
    "import seaborn as sns\n",
    "import scipy as sp\n",
    "import math\n",
    "from networkx import linalg\n",
    "import itertools\n",
    "from itertools import compress\n",
    "import pandas as pd\n",
    "import csv\n",
    "\n",
    "%matplotlib inline"
   ]
  },
  {
   "cell_type": "markdown",
   "id": "adolescent-volunteer",
   "metadata": {},
   "source": [
    "Importing data"
   ]
  },
  {
   "cell_type": "code",
   "execution_count": 30,
   "id": "verbal-professional",
   "metadata": {},
   "outputs": [],
   "source": [
    "routes_data = pd.read_csv('routes.csv')\n",
    "airport_data = pd.read_csv('airports.csv')"
   ]
  },
  {
   "cell_type": "markdown",
   "id": "disabled-reality",
   "metadata": {},
   "source": [
    "A glimspe of the flights data"
   ]
  },
  {
   "cell_type": "code",
   "execution_count": 170,
   "id": "saving-dealing",
   "metadata": {},
   "outputs": [
    {
     "data": {
      "text/html": [
       "<div>\n",
       "<style scoped>\n",
       "    .dataframe tbody tr th:only-of-type {\n",
       "        vertical-align: middle;\n",
       "    }\n",
       "\n",
       "    .dataframe tbody tr th {\n",
       "        vertical-align: top;\n",
       "    }\n",
       "\n",
       "    .dataframe thead th {\n",
       "        text-align: right;\n",
       "    }\n",
       "</style>\n",
       "<table border=\"1\" class=\"dataframe\">\n",
       "  <thead>\n",
       "    <tr style=\"text-align: right;\">\n",
       "      <th></th>\n",
       "      <th>Airline_IATA</th>\n",
       "      <th>Airline_ID</th>\n",
       "      <th>Source</th>\n",
       "      <th>Source_ID</th>\n",
       "      <th>Destination</th>\n",
       "      <th>Destination_ID</th>\n",
       "      <th>Number_of_stops</th>\n",
       "      <th>Equipment</th>\n",
       "    </tr>\n",
       "  </thead>\n",
       "  <tbody>\n",
       "    <tr>\n",
       "      <th>0</th>\n",
       "      <td>2B</td>\n",
       "      <td>410</td>\n",
       "      <td>AER</td>\n",
       "      <td>2965</td>\n",
       "      <td>KZN</td>\n",
       "      <td>2990</td>\n",
       "      <td>0</td>\n",
       "      <td>CR2</td>\n",
       "    </tr>\n",
       "    <tr>\n",
       "      <th>1</th>\n",
       "      <td>2B</td>\n",
       "      <td>410</td>\n",
       "      <td>ASF</td>\n",
       "      <td>2966</td>\n",
       "      <td>KZN</td>\n",
       "      <td>2990</td>\n",
       "      <td>0</td>\n",
       "      <td>CR2</td>\n",
       "    </tr>\n",
       "    <tr>\n",
       "      <th>2</th>\n",
       "      <td>2B</td>\n",
       "      <td>410</td>\n",
       "      <td>ASF</td>\n",
       "      <td>2966</td>\n",
       "      <td>MRV</td>\n",
       "      <td>2962</td>\n",
       "      <td>0</td>\n",
       "      <td>CR2</td>\n",
       "    </tr>\n",
       "    <tr>\n",
       "      <th>3</th>\n",
       "      <td>2B</td>\n",
       "      <td>410</td>\n",
       "      <td>CEK</td>\n",
       "      <td>2968</td>\n",
       "      <td>KZN</td>\n",
       "      <td>2990</td>\n",
       "      <td>0</td>\n",
       "      <td>CR2</td>\n",
       "    </tr>\n",
       "    <tr>\n",
       "      <th>4</th>\n",
       "      <td>2B</td>\n",
       "      <td>410</td>\n",
       "      <td>CEK</td>\n",
       "      <td>2968</td>\n",
       "      <td>OVB</td>\n",
       "      <td>4078</td>\n",
       "      <td>0</td>\n",
       "      <td>CR2</td>\n",
       "    </tr>\n",
       "  </tbody>\n",
       "</table>\n",
       "</div>"
      ],
      "text/plain": [
       "  Airline_IATA Airline_ID Source Source_ID Destination Destination_ID  \\\n",
       "0           2B        410    AER      2965         KZN           2990   \n",
       "1           2B        410    ASF      2966         KZN           2990   \n",
       "2           2B        410    ASF      2966         MRV           2962   \n",
       "3           2B        410    CEK      2968         KZN           2990   \n",
       "4           2B        410    CEK      2968         OVB           4078   \n",
       "\n",
       "   Number_of_stops Equipment  \n",
       "0                0       CR2  \n",
       "1                0       CR2  \n",
       "2                0       CR2  \n",
       "3                0       CR2  \n",
       "4                0       CR2  "
      ]
     },
     "execution_count": 170,
     "metadata": {},
     "output_type": "execute_result"
    }
   ],
   "source": [
    "routes_data.head()"
   ]
  },
  {
   "cell_type": "markdown",
   "id": "modified-wildlife",
   "metadata": {},
   "source": [
    "A glimspe of the aiport data"
   ]
  },
  {
   "cell_type": "code",
   "execution_count": 169,
   "id": "colonial-writer",
   "metadata": {},
   "outputs": [
    {
     "data": {
      "text/html": [
       "<div>\n",
       "<style scoped>\n",
       "    .dataframe tbody tr th:only-of-type {\n",
       "        vertical-align: middle;\n",
       "    }\n",
       "\n",
       "    .dataframe tbody tr th {\n",
       "        vertical-align: top;\n",
       "    }\n",
       "\n",
       "    .dataframe thead th {\n",
       "        text-align: right;\n",
       "    }\n",
       "</style>\n",
       "<table border=\"1\" class=\"dataframe\">\n",
       "  <thead>\n",
       "    <tr style=\"text-align: right;\">\n",
       "      <th></th>\n",
       "      <th>Airport</th>\n",
       "      <th>Name</th>\n",
       "      <th>City</th>\n",
       "      <th>Country</th>\n",
       "      <th>IATA_code</th>\n",
       "      <th>ICAO_code</th>\n",
       "      <th>Latitude_degrees</th>\n",
       "      <th>Longitude_degrees</th>\n",
       "      <th>Altitude_feet</th>\n",
       "      <th>Timezone_UTC_offset</th>\n",
       "      <th>DST</th>\n",
       "      <th>Timezone</th>\n",
       "      <th>Type</th>\n",
       "      <th>Source</th>\n",
       "    </tr>\n",
       "  </thead>\n",
       "  <tbody>\n",
       "    <tr>\n",
       "      <th>0</th>\n",
       "      <td>1</td>\n",
       "      <td>Goroka Airport</td>\n",
       "      <td>Goroka</td>\n",
       "      <td>Papua New Guinea</td>\n",
       "      <td>GKA</td>\n",
       "      <td>AYGA</td>\n",
       "      <td>-6.081690</td>\n",
       "      <td>145.391998</td>\n",
       "      <td>5282</td>\n",
       "      <td>10</td>\n",
       "      <td>U</td>\n",
       "      <td>Pacific/Port_Moresby</td>\n",
       "      <td>airport</td>\n",
       "      <td>OurAirports</td>\n",
       "    </tr>\n",
       "    <tr>\n",
       "      <th>1</th>\n",
       "      <td>2</td>\n",
       "      <td>Madang Airport</td>\n",
       "      <td>Madang</td>\n",
       "      <td>Papua New Guinea</td>\n",
       "      <td>MAG</td>\n",
       "      <td>AYMD</td>\n",
       "      <td>-5.207080</td>\n",
       "      <td>145.789001</td>\n",
       "      <td>20</td>\n",
       "      <td>10</td>\n",
       "      <td>U</td>\n",
       "      <td>Pacific/Port_Moresby</td>\n",
       "      <td>airport</td>\n",
       "      <td>OurAirports</td>\n",
       "    </tr>\n",
       "    <tr>\n",
       "      <th>2</th>\n",
       "      <td>3</td>\n",
       "      <td>Mount Hagen Kagamuga Airport</td>\n",
       "      <td>Mount Hagen</td>\n",
       "      <td>Papua New Guinea</td>\n",
       "      <td>HGU</td>\n",
       "      <td>AYMH</td>\n",
       "      <td>-5.826790</td>\n",
       "      <td>144.296005</td>\n",
       "      <td>5388</td>\n",
       "      <td>10</td>\n",
       "      <td>U</td>\n",
       "      <td>Pacific/Port_Moresby</td>\n",
       "      <td>airport</td>\n",
       "      <td>OurAirports</td>\n",
       "    </tr>\n",
       "    <tr>\n",
       "      <th>3</th>\n",
       "      <td>4</td>\n",
       "      <td>Nadzab Airport</td>\n",
       "      <td>Nadzab</td>\n",
       "      <td>Papua New Guinea</td>\n",
       "      <td>LAE</td>\n",
       "      <td>AYNZ</td>\n",
       "      <td>-6.569803</td>\n",
       "      <td>146.725977</td>\n",
       "      <td>239</td>\n",
       "      <td>10</td>\n",
       "      <td>U</td>\n",
       "      <td>Pacific/Port_Moresby</td>\n",
       "      <td>airport</td>\n",
       "      <td>OurAirports</td>\n",
       "    </tr>\n",
       "    <tr>\n",
       "      <th>4</th>\n",
       "      <td>5</td>\n",
       "      <td>Port Moresby Jacksons International Airport</td>\n",
       "      <td>Port Moresby</td>\n",
       "      <td>Papua New Guinea</td>\n",
       "      <td>POM</td>\n",
       "      <td>AYPY</td>\n",
       "      <td>-9.443380</td>\n",
       "      <td>147.220001</td>\n",
       "      <td>146</td>\n",
       "      <td>10</td>\n",
       "      <td>U</td>\n",
       "      <td>Pacific/Port_Moresby</td>\n",
       "      <td>airport</td>\n",
       "      <td>OurAirports</td>\n",
       "    </tr>\n",
       "  </tbody>\n",
       "</table>\n",
       "</div>"
      ],
      "text/plain": [
       "    Airport                                         Name          City  \\\n",
       "0         1                               Goroka Airport        Goroka   \n",
       "1         2                               Madang Airport        Madang   \n",
       "2         3                 Mount Hagen Kagamuga Airport   Mount Hagen   \n",
       "3         4                               Nadzab Airport        Nadzab   \n",
       "4         5  Port Moresby Jacksons International Airport  Port Moresby   \n",
       "\n",
       "            Country IATA_code ICAO_code  Latitude_degrees  Longitude_degrees  \\\n",
       "0  Papua New Guinea       GKA      AYGA         -6.081690         145.391998   \n",
       "1  Papua New Guinea       MAG      AYMD         -5.207080         145.789001   \n",
       "2  Papua New Guinea       HGU      AYMH         -5.826790         144.296005   \n",
       "3  Papua New Guinea       LAE      AYNZ         -6.569803         146.725977   \n",
       "4  Papua New Guinea       POM      AYPY         -9.443380         147.220001   \n",
       "\n",
       "   Altitude_feet Timezone_UTC_offset DST              Timezone     Type  \\\n",
       "0           5282                  10   U  Pacific/Port_Moresby  airport   \n",
       "1             20                  10   U  Pacific/Port_Moresby  airport   \n",
       "2           5388                  10   U  Pacific/Port_Moresby  airport   \n",
       "3            239                  10   U  Pacific/Port_Moresby  airport   \n",
       "4            146                  10   U  Pacific/Port_Moresby  airport   \n",
       "\n",
       "        Source  \n",
       "0  OurAirports  \n",
       "1  OurAirports  \n",
       "2  OurAirports  \n",
       "3  OurAirports  \n",
       "4  OurAirports  "
      ]
     },
     "execution_count": 169,
     "metadata": {},
     "output_type": "execute_result"
    }
   ],
   "source": [
    "airport_data.head()"
   ]
  },
  {
   "cell_type": "markdown",
   "id": "quiet-limit",
   "metadata": {},
   "source": [
    "Create a dictionary of with IATA codes of the airports as the keys and natural numbers as the values."
   ]
  },
  {
   "cell_type": "code",
   "execution_count": 241,
   "id": "traditional-consideration",
   "metadata": {},
   "outputs": [],
   "source": [
    "nodes = list(routes_data['Destination'].unique()) + list(routes_data['Source'].unique())\n",
    "node_labels = {}\n",
    "names = {}\n",
    "k = 0\n",
    "for item in nodes:\n",
    "    k = k + 1\n",
    "    node_labels.update({item:k})\n",
    "    #names.update({item:airport_data[airport_data['IATA_code'] == item]['Name'][0]})"
   ]
  },
  {
   "cell_type": "markdown",
   "id": "atlantic-mediterranean",
   "metadata": {},
   "source": [
    "Geodesic distance/ distance along the great circle arcs"
   ]
  },
  {
   "cell_type": "code",
   "execution_count": 118,
   "id": "functional-diary",
   "metadata": {},
   "outputs": [],
   "source": [
    "def distance(lat1,lat2, lon1, lon2):\n",
    "    R = 6371e3 \n",
    "    # in metres\n",
    "    phi1 = lat1 * math.pi/180\n",
    "    # phi, lambda in radians\n",
    "    phi2 = lat2 * math.pi/180\n",
    "    delta_phi = (lat2-lat1) * math.pi/180\n",
    "    delta_lambda = (lon2-lon1) * math.pi/180\n",
    "    \n",
    "    a = math.sin(delta_phi/2)**2 + math.cos(phi1) * math.cos(phi2) * math.sin(delta_lambda/2)**2\n",
    "    c = 2.0 * np.arctan2(np.sqrt(a), np.sqrt(1-a));\n",
    "    d = R * c\n",
    "    # in metres\n",
    "    return d/1000.0"
   ]
  },
  {
   "cell_type": "markdown",
   "id": "addressed-theta",
   "metadata": {},
   "source": [
    "Create dictionaries to get the latitudes and longitudes of the airports."
   ]
  },
  {
   "cell_type": "code",
   "execution_count": null,
   "id": "tough-syracuse",
   "metadata": {},
   "outputs": [],
   "source": [
    "longitude = {}\n",
    "longitudes = list(airport_data['Longitude_degrees'])\n",
    "latitude = {}\n",
    "latitudes = list(airport_data['Latitude_degrees'])\n",
    "iata_codes_with_duplicates = list(airport_data['IATA_code'])\n",
    "for entry in nodes:\n",
    "    try:\n",
    "        index = iata_codes_with_duplicates.index(entry)\n",
    "        longitude.update({entry:longitudes[index]})\n",
    "        latitude.update({entry:latitudes[index]})\n",
    "    except ValueError as ve:\n",
    "        continue\n",
    "        #print('iata code not found in the airport database')\n"
   ]
  },
  {
   "cell_type": "markdown",
   "id": "greek-recall",
   "metadata": {},
   "source": [
    "Define a weighted directed graph using the flight network"
   ]
  },
  {
   "cell_type": "code",
   "execution_count": 250,
   "id": "related-skiing",
   "metadata": {},
   "outputs": [],
   "source": [
    "G = nx.DiGraph()\n",
    "for n in range(len(routes_data)):\n",
    "    try:\n",
    "        G.add_edge(node_labels[routes_data['Source'][n]],node_labels[routes_data['Destination'][n]], weight = distance(latitude[routes_data['Source'][n]],latitude[routes_data['Destination'][n]],longitude[routes_data['Source'][n]],longitude[routes_data['Destination'][n]]))\n",
    "    except KeyError as ke:\n",
    "        continue"
   ]
  },
  {
   "cell_type": "markdown",
   "id": "behind-crowd",
   "metadata": {},
   "source": [
    "Uncomment the following line to get the list of nodes"
   ]
  },
  {
   "cell_type": "code",
   "execution_count": 278,
   "id": "distant-above",
   "metadata": {},
   "outputs": [],
   "source": [
    "#list(G.nodes())"
   ]
  },
  {
   "cell_type": "markdown",
   "id": "greenhouse-margin",
   "metadata": {},
   "source": [
    "Pick any two nodes from the above list to find the shortest path, which corresponds to the shortest flight with respect to distance travelled by the plane"
   ]
  },
  {
   "cell_type": "code",
   "execution_count": 172,
   "id": "tight-basketball",
   "metadata": {},
   "outputs": [
    {
     "data": {
      "text/plain": [
       "2629.1636351327656"
      ]
     },
     "execution_count": 172,
     "metadata": {},
     "output_type": "execute_result"
    }
   ],
   "source": [
    "source_airport = 3419\n",
    "destination_airport = 3604\n",
    "nx.shortest_path_length(G,source_airport,destination_airport,weight='weight')"
   ]
  },
  {
   "cell_type": "markdown",
   "id": "ready-transparency",
   "metadata": {},
   "source": [
    "Different centrality measures:\n",
    "1) Degree centrality is equal to the ratio of the number of neighboring vertices/nodes to the total number of vertices/nodes. So, this measure quantifies how strongly an airport plays the role of a hub.\n",
    "2) Betweenness centrality of an airport is the ratio of the number of shortest paths (flight routes) passing through an airport with fixed source and destination to the total number of shortest paths.\n",
    "3) Edge betweenennes centrality measures the same quantity as the betweenness centrality but for the edges."
   ]
  },
  {
   "cell_type": "code",
   "execution_count": 167,
   "id": "cutting-hungary",
   "metadata": {},
   "outputs": [],
   "source": [
    "degree_importance_one = nx.degree_centrality(G)\n",
    "degree_importnace_two = nx.betweenness_centrality(G,weight='weight')\n",
    "edge_importance = nx.edge_betweenness_centrality(G,weight='weight')"
   ]
  },
  {
   "cell_type": "markdown",
   "id": "valued-formula",
   "metadata": {},
   "source": [
    "Airport with highest number of nearest/immediate neighbors or edges"
   ]
  },
  {
   "cell_type": "code",
   "execution_count": 198,
   "id": "convertible-armor",
   "metadata": {},
   "outputs": [
    {
     "data": {
      "text/html": [
       "<div>\n",
       "<style scoped>\n",
       "    .dataframe tbody tr th:only-of-type {\n",
       "        vertical-align: middle;\n",
       "    }\n",
       "\n",
       "    .dataframe tbody tr th {\n",
       "        vertical-align: top;\n",
       "    }\n",
       "\n",
       "    .dataframe thead th {\n",
       "        text-align: right;\n",
       "    }\n",
       "</style>\n",
       "<table border=\"1\" class=\"dataframe\">\n",
       "  <thead>\n",
       "    <tr style=\"text-align: right;\">\n",
       "      <th></th>\n",
       "      <th>Airport</th>\n",
       "      <th>Name</th>\n",
       "      <th>City</th>\n",
       "      <th>Country</th>\n",
       "      <th>IATA_code</th>\n",
       "      <th>ICAO_code</th>\n",
       "      <th>Latitude_degrees</th>\n",
       "      <th>Longitude_degrees</th>\n",
       "      <th>Altitude_feet</th>\n",
       "      <th>Timezone_UTC_offset</th>\n",
       "      <th>DST</th>\n",
       "      <th>Timezone</th>\n",
       "      <th>Type</th>\n",
       "      <th>Source</th>\n",
       "    </tr>\n",
       "  </thead>\n",
       "  <tbody>\n",
       "    <tr>\n",
       "      <th>1486</th>\n",
       "      <td>1526</td>\n",
       "      <td>Turin Airport</td>\n",
       "      <td>Torino</td>\n",
       "      <td>Italy</td>\n",
       "      <td>TRN</td>\n",
       "      <td>LIMF</td>\n",
       "      <td>45.200802</td>\n",
       "      <td>7.64963</td>\n",
       "      <td>989</td>\n",
       "      <td>1</td>\n",
       "      <td>E</td>\n",
       "      <td>Europe/Rome</td>\n",
       "      <td>airport</td>\n",
       "      <td>OurAirports</td>\n",
       "    </tr>\n",
       "  </tbody>\n",
       "</table>\n",
       "</div>"
      ],
      "text/plain": [
       "       Airport           Name    City Country IATA_code ICAO_code  \\\n",
       "1486      1526  Turin Airport  Torino   Italy       TRN      LIMF   \n",
       "\n",
       "      Latitude_degrees  Longitude_degrees  Altitude_feet Timezone_UTC_offset  \\\n",
       "1486         45.200802            7.64963            989                   1   \n",
       "\n",
       "     DST     Timezone     Type       Source  \n",
       "1486   E  Europe/Rome  airport  OurAirports  "
      ]
     },
     "execution_count": 198,
     "metadata": {},
     "output_type": "execute_result"
    }
   ],
   "source": [
    "vals = list(degree_importance_one.values())\n",
    "ks = list(degree_importance_one.keys())\n",
    "position = vals.index(max(vals))\n",
    "nodekeys = list(node_labels.keys())\n",
    "airport_data[airport_data['IATA_code'] == nodekeys[position]]"
   ]
  },
  {
   "cell_type": "markdown",
   "id": "funny-blogger",
   "metadata": {},
   "source": [
    "Airport with highest degree centrality"
   ]
  },
  {
   "cell_type": "code",
   "execution_count": 200,
   "id": "right-manitoba",
   "metadata": {},
   "outputs": [
    {
     "data": {
      "text/html": [
       "<div>\n",
       "<style scoped>\n",
       "    .dataframe tbody tr th:only-of-type {\n",
       "        vertical-align: middle;\n",
       "    }\n",
       "\n",
       "    .dataframe tbody tr th {\n",
       "        vertical-align: top;\n",
       "    }\n",
       "\n",
       "    .dataframe thead th {\n",
       "        text-align: right;\n",
       "    }\n",
       "</style>\n",
       "<table border=\"1\" class=\"dataframe\">\n",
       "  <thead>\n",
       "    <tr style=\"text-align: right;\">\n",
       "      <th></th>\n",
       "      <th>Airport</th>\n",
       "      <th>Name</th>\n",
       "      <th>City</th>\n",
       "      <th>Country</th>\n",
       "      <th>IATA_code</th>\n",
       "      <th>ICAO_code</th>\n",
       "      <th>Latitude_degrees</th>\n",
       "      <th>Longitude_degrees</th>\n",
       "      <th>Altitude_feet</th>\n",
       "      <th>Timezone_UTC_offset</th>\n",
       "      <th>DST</th>\n",
       "      <th>Timezone</th>\n",
       "      <th>Type</th>\n",
       "      <th>Source</th>\n",
       "    </tr>\n",
       "  </thead>\n",
       "  <tbody>\n",
       "    <tr>\n",
       "      <th>2367</th>\n",
       "      <td>2491</td>\n",
       "      <td>Gobernador Castello Airport</td>\n",
       "      <td>Viedma</td>\n",
       "      <td>Argentina</td>\n",
       "      <td>VDM</td>\n",
       "      <td>SAVV</td>\n",
       "      <td>-40.8692</td>\n",
       "      <td>-63.0004</td>\n",
       "      <td>20</td>\n",
       "      <td>-3</td>\n",
       "      <td>N</td>\n",
       "      <td>America/Argentina/Salta</td>\n",
       "      <td>airport</td>\n",
       "      <td>OurAirports</td>\n",
       "    </tr>\n",
       "  </tbody>\n",
       "</table>\n",
       "</div>"
      ],
      "text/plain": [
       "       Airport                         Name    City    Country IATA_code  \\\n",
       "2367      2491  Gobernador Castello Airport  Viedma  Argentina       VDM   \n",
       "\n",
       "     ICAO_code  Latitude_degrees  Longitude_degrees  Altitude_feet  \\\n",
       "2367      SAVV          -40.8692           -63.0004             20   \n",
       "\n",
       "     Timezone_UTC_offset DST                 Timezone     Type       Source  \n",
       "2367                  -3   N  America/Argentina/Salta  airport  OurAirports  "
      ]
     },
     "execution_count": 200,
     "metadata": {},
     "output_type": "execute_result"
    }
   ],
   "source": [
    "vals = list(degree_importnace_two.values())\n",
    "ks = list(degree_importnace_two.keys())\n",
    "position = vals.index(max(vals))\n",
    "nodekeys = list(node_labels.keys())\n",
    "airport_data[airport_data['IATA_code'] == nodekeys[position]]"
   ]
  },
  {
   "cell_type": "markdown",
   "id": "blessed-singer",
   "metadata": {},
   "source": [
    "Flight path with highest degree centrality"
   ]
  },
  {
   "cell_type": "code",
   "execution_count": 249,
   "id": "opponent-seminar",
   "metadata": {},
   "outputs": [
    {
     "name": "stdout",
     "output_type": "stream",
     "text": [
      "ANC 3574    Ted Stevens Anchorage International Airport\n",
      "Name: Name, dtype: object\n",
      "SEA 3377    Seattle Tacoma International Airport\n",
      "Name: Name, dtype: object\n"
     ]
    }
   ],
   "source": [
    "vals = list(edge_importance.values())\n",
    "ks = list(edge_importance.keys())\n",
    "position = vals.index(max(vals))\n",
    "nodekeys = list(node_labels.keys())\n",
    "nodevals = list(node_labels.values())\n",
    "snode = nodevals.index(list(G.edges.data())[position][0])\n",
    "dnode = nodevals.index(list(G.edges.data())[position][1])\n",
    "print(nodekeys[snode],airport_data[airport_data['IATA_code'] == nodekeys[snode]]['Name'])\n",
    "print(nodekeys[dnode],airport_data[airport_data['IATA_code'] == nodekeys[dnode]]['Name'])"
   ]
  },
  {
   "cell_type": "markdown",
   "id": "responsible-treasury",
   "metadata": {},
   "source": [
    "Number of connected components"
   ]
  },
  {
   "cell_type": "code",
   "execution_count": 277,
   "id": "unauthorized-zambia",
   "metadata": {},
   "outputs": [],
   "source": [
    "H = nx.Graph()\n",
    "for n in range(len(routes_data)):\n",
    "    try:\n",
    "        H.add_edge(node_labels[routes_data['Source'][n]],node_labels[routes_data['Destination'][n]], weight = distance(latitude[routes_data['Source'][n]],latitude[routes_data['Destination'][n]],longitude[routes_data['Source'][n]],longitude[routes_data['Destination'][n]]))\n",
    "    except KeyError as ke:\n",
    "        continue\n",
    "        "
   ]
  },
  {
   "cell_type": "markdown",
   "id": "fleet-boards",
   "metadata": {},
   "source": [
    "The number of connected components are not accurate, because we are missing some flight connections due unavailability of iata codes of some airports in the airport database. "
   ]
  },
  {
   "cell_type": "code",
   "execution_count": 191,
   "id": "banner-refrigerator",
   "metadata": {},
   "outputs": [
    {
     "name": "stdout",
     "output_type": "stream",
     "text": [
      "7\n"
     ]
    }
   ],
   "source": [
    "components = list(nx.connected_components(H))\n",
    "print(len(components))"
   ]
  },
  {
   "cell_type": "markdown",
   "id": "adequate-dance",
   "metadata": {},
   "source": [
    "Degree distribution"
   ]
  },
  {
   "cell_type": "code",
   "execution_count": 279,
   "id": "alternative-presentation",
   "metadata": {},
   "outputs": [
    {
     "data": {
      "text/plain": [
       "(array([2884.,  189.,   75.,   45.,   22.,   19.,   12.,    4.,    3.,\n",
       "           4.]),\n",
       " array([  1. ,  25.7,  50.4,  75.1,  99.8, 124.5, 149.2, 173.9, 198.6,\n",
       "        223.3, 248. ]),\n",
       " <a list of 10 Patch objects>)"
      ]
     },
     "execution_count": 279,
     "metadata": {},
     "output_type": "execute_result"
    },
    {
     "data": {
      "image/png": "[encoded data removed]",
      "text/plain": [
       "<Figure size 432x288 with 1 Axes>"
      ]
     },
     "metadata": {
      "needs_background": "light"
     },
     "output_type": "display_data"
    }
   ],
   "source": [
    "plt.hist([item[1] for item in list(H.degree())])"
   ]
  },
  {
   "cell_type": "code",
   "execution_count": null,
   "id": "electoral-rally",
   "metadata": {},
   "outputs": [],
   "source": []
  }
 ],
 "metadata": {
  "kernelspec": {
   "display_name": "Python 3",
   "language": "python",
   "name": "python3"
  },
  "language_info": {
   "codemirror_mode": {
    "name": "ipython",
    "version": 3
   },
   "file_extension": ".py",
   "mimetype": "text/x-python",
   "name": "python",
   "nbconvert_exporter": "python",
   "pygments_lexer": "ipython3",
   "version": "3.7.6"
  }
 },
 "nbformat": 4,
 "nbformat_minor": 5
}
